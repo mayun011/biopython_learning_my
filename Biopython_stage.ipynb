{
 "cells": [
  {
   "cell_type": "code",
   "execution_count": 1,
   "id": "cdc33549-5641-4898-a98b-83eaa6818924",
   "metadata": {},
   "outputs": [
    {
     "name": "stdout",
     "output_type": "stream",
     "text": [
      "GATTACAGATTACA\n",
      "CTAATGTCTAATGT\n",
      "TGTAATCTGTAATC\n"
     ]
    }
   ],
   "source": [
    "from Bio.Seq import Seq #注意是Bio.Seq\n",
    "my_seq = Seq(\"GATTACAGATTACA\")#S是大写的\n",
    "my_seq\n",
    "print(my_seq)\n",
    "print(my_seq.complement())#补体函数\n",
    "print(my_seq.reverse_complement())#反向补体函数"
   ]
  },
  {
   "cell_type": "code",
   "execution_count": 3,
   "id": "c7b7d268-896e-4e5d-8a1f-c4fef44dffbd",
   "metadata": {},
   "outputs": [
    {
     "name": "stdout",
     "output_type": "stream",
     "text": [
      "GATTACAGATTACAt\n",
      "G\n",
      "GAT\n",
      "TTACAGA\n",
      "GATTACAGATTACAtTGTAATCTGTAATCT\n"
     ]
    },
    {
     "data": {
      "text/plain": [
       "Seq('DYRLH')"
      ]
     },
     "execution_count": 3,
     "metadata": {},
     "output_type": "execute_result"
    }
   ],
   "source": [
    "from Bio.Data import CodonTable\n",
    "my_seq = Seq(\"GATTACAGATTACAt\")\n",
    "print(my_seq)\n",
    "print(my_seq[0])\n",
    "print(my_seq[0:3])\n",
    "print(my_seq[2:9])\n",
    "your_seq=Seq(\"TGTAATCTGTAATCT\")\n",
    "print(my_seq + your_seq)#字符串\n",
    "my_seq.translate()#翻译的过程"
   ]
  },
  {
   "cell_type": "code",
   "execution_count": 4,
   "id": "2bc2835e-4934-4d4c-bb53-2bcd7e672b61",
   "metadata": {},
   "outputs": [
    {
     "name": "stdout",
     "output_type": "stream",
     "text": [
      "hCOV-19/Jiangsu/NJCDC-037/2023/1.14_1.20_01\n",
      "Seq('NNNNNNNNNNNNNNNNNNNNNNNNNNNNNNNNNNNNNNNNNNNNNNNNNNNNGT...AAA')\n",
      "29870\n"
     ]
    }
   ],
   "source": [
    "from Bio import SeqIO\n",
    "seq_stage1=SeqIO.parse(\"C:\\\\Users\\\\20156\\\\Desktop\\\\python_example_MY(1)\\\\example_MY\\\\stage1.fasta\", \"fasta\")\n",
    "seq_stage2=SeqIO.parse(\"C:\\\\Users\\\\20156\\\\Desktop\\\\python_example_MY(1)\\\\example_MY\\\\stage1.fasta\", \"fasta\")\n",
    "for record in seq_stage1:\n",
    "    print(record.id)#print seq header\n",
    "    print(repr(record.seq))#print actual seq\n",
    "    print(len(record))#print lenth\n",
    "    break"
   ]
  },
  {
   "cell_type": "code",
   "execution_count": 5,
   "id": "085d519d-8523-4ea2-a820-2a4f87e5c2b4",
   "metadata": {},
   "outputs": [
    {
     "name": "stdout",
     "output_type": "stream",
     "text": [
      "3160\n",
      "3912\n",
      "hCOV-19/Jiangsu/NJCDC-037/2023/1.14_1.20_01\n",
      "Seq('NNNNNNNNNNNNNNNNNNNNNNNNNNNNNNNNNNNNNNNNNNNNNNNNNNNNGT...AAA')\n",
      "29870\n"
     ]
    },
    {
     "data": {
      "text/plain": [
       "1"
      ]
     },
     "execution_count": 5,
     "metadata": {},
     "output_type": "execute_result"
    }
   ],
   "source": [
    "from Bio import SeqIO\n",
    "seq_stage1=SeqIO.parse(\"C:\\\\Users\\\\20156\\\\Desktop\\\\python_example_MY(1)\\\\example_MY\\\\stage1.fasta\", \"fasta\")\n",
    "seq_stage2=SeqIO.parse(\"C:\\\\Users\\\\20156\\\\Desktop\\\\python_example_MY(1)\\\\example_MY\\\\stage2.fasta\", \"fasta\")\n",
    "stage1_dict=SeqIO.to_dict(seq_stage1)#转化成了字典\n",
    "stage2_dict=SeqIO.to_dict(seq_stage2)\n",
    "print(len(stage1_dict))\n",
    "print(len(stage2_dict))\n",
    "#print(stage1_dict.keys())\n",
    "seq_stage1_record=stage1_dict[\"hCOV-19/Jiangsu/NJCDC-037/2023/1.14_1.20_01\"]#字典中引用某个元素\n",
    "print(seq_stage1_record.description)\n",
    "print(repr(seq_stage1_record.seq))\n",
    "print(len(seq_stage1_record.seq))\n",
    "SeqIO.write(seq_stage1_record,\"C:\\\\Users\\\\20156\\\\Desktop\\\\python_example_MY(1)\\\\example_MY\\\\hCOV_19_js_test.fasta\",\"fasta\")#导出，写入"
   ]
  },
  {
   "cell_type": "code",
   "execution_count": 6,
   "id": "3d605101-58cf-459c-b937-c38b46ec2fb0",
   "metadata": {},
   "outputs": [
    {
     "name": "stdout",
     "output_type": "stream",
     "text": [
      "hCoV-19/Jiangsu/YZCDC-197/2023/0520_05\n",
      "59548\n",
      "hCoV-19/Jiangsu/YZCDC-198/2023/0520_05\n",
      "59548\n",
      "hCoV-19/Jiangsu/YZCDC-199/2023/0520_05\n",
      "59548\n",
      "hCoV-19/Jiangsu/YZCDC-200/2023/0520_05\n",
      "59548\n",
      "hCoV-19/Jiangsu/YZCDC-203/2023/0520_05\n",
      "59548\n",
      "hCoV-19/Jiangsu/YZCDC-204/2023/0520_05\n",
      "59548\n"
     ]
    }
   ],
   "source": [
    "from Bio import SeqIO\n",
    "records = list(SeqIO.parse(\"C:\\\\Users\\\\20156\\\\Desktop\\\\python_example_MY(1)\\\\example_MY\\\\stage1.fasta\", \"fasta\"))\n",
    "#records.sort(key=lambda r:len(r))#按照长度对这些进行排序,小的在前面\n",
    "records.sort(key=lambda r:-len(r))#反方向\n",
    "SeqIO.write(records,\"C:\\\\Users\\\\20156\\\\Desktop\\\\python_example_MY(1)\\\\example_MY\\\\records_sort_test.fasta\",\"fasta\")\n",
    "array=0\n",
    "for seq_record in list(SeqIO.parse(\"C:\\\\Users\\\\20156\\\\Desktop\\\\python_example_MY(1)\\\\example_MY\\\\records_sort_test.fasta\", \"fasta\")):\n",
    "    array+=1\n",
    "    print(seq_record.id)\n",
    "    #print(repr(seq_record))\n",
    "    print(len(seq_record))\n",
    "    if array>5:\n",
    "        break"
   ]
  },
  {
   "cell_type": "code",
   "execution_count": 7,
   "id": "39e3e995-1309-4a17-a1eb-18e040d5ea22",
   "metadata": {},
   "outputs": [
    {
     "name": "stdout",
     "output_type": "stream",
     "text": [
      "3160 3912 752\n",
      "752\n",
      "752\n"
     ]
    }
   ],
   "source": [
    "from Bio import SeqIO#the first question\n",
    "from Bio.SeqIO import write\n",
    "seq1=[]\n",
    "seq2=[]\n",
    "seq_stage1=SeqIO.parse(\"C:\\\\Users\\\\20156\\\\Desktop\\\\python_example_MY(1)\\\\example_MY\\\\stage1.fasta\", \"fasta\")\n",
    "seq_stage2=SeqIO.parse(\"C:\\\\Users\\\\20156\\\\Desktop\\\\python_example_MY(1)\\\\example_MY\\\\stage2.fasta\", \"fasta\")\n",
    "\n",
    "for n, seq_record in enumerate(seq_stage1):\n",
    "    seq_id = seq_record.description\n",
    "    seq1.append(seq_id)\n",
    "for n, seq_record in enumerate(SeqIO.parse(\"C:\\\\Users\\\\20156\\\\Desktop\\\\python_example_MY(1)\\\\example_MY\\\\stage2.fasta\", \"fasta\")):\n",
    "    seq_id = seq_record.description\n",
    "    seq2.append(seq_id)\n",
    "print(len(seq1),len(seq2),len(seq2)-len(seq1))\n",
    "new_seq = set(seq2) - set(seq1)\n",
    "#print(new_seq)\n",
    "print(len(new_seq))\n",
    "new_seq1_2={}\n",
    "array=0\n",
    "for n, seq_record in enumerate(seq_stage2):\n",
    "    seq_id = seq_record.description\n",
    "    if seq_id in new_seq:\n",
    "        array+=1\n",
    "        new_seq1_2[seq_id] = str(seq_record.seq)\n",
    "print(array)\n",
    "new_seq_file = \"C:\\\\Users\\\\20156\\\\Desktop\\\\python_example_MY(1)\\\\example_MY\\\\my_result.fasta\"\n",
    "with open(new_seq_file,\"w+\") as f:\n",
    "    for i in new_seq1_2:\n",
    "        f.write(\">\"+i+\"\\n\")\n",
    "        f.write(new_seq1_2[seq_id]+\"\\n\")"
   ]
  },
  {
   "cell_type": "code",
   "execution_count": 34,
   "id": "8605aa48-ed80-440c-8969-34da33f77dfc",
   "metadata": {},
   "outputs": [
    {
     "name": "stdout",
     "output_type": "stream",
     "text": [
      "{'XBB.1.16': 212, 'XBB': 918, 'BA.2.75': 62, 'BA.5': 1149, 'XBB.1': 425, 'X': 12, 'BQ.1': 8}\n"
     ]
    },
    {
     "data": {
      "image/png": "[encoded data removed]",
      "text/plain": [
       "<Figure size 640x480 with 1 Axes>"
      ]
     },
     "metadata": {},
     "output_type": "display_data"
    }
   ],
   "source": [
    "import pandas as pd#the second one\n",
    "import numpy as np\n",
    "import matplotlib.pyplot as plt\n",
    "df = pd.read_csv('C:\\\\Users\\\\20156\\\\Desktop\\\\python_example_MY(1)\\\\example_MY\\\\summary.tsv',sep='\\t')\n",
    "df.head()\n",
    "#df.plot.scatter(x='clade_lineage',y='lineage')\n",
    "list_1=[]\n",
    "list_dict={}\n",
    "for it in df['clade_lineage']:\n",
    "    list_1.append(it)\n",
    "list_id=set(list_1)\n",
    "for it in list_id:\n",
    "    list_dict[it]=list_1.count(it)\n",
    "print(list_dict)\n",
    "x=list(list_dict)\n",
    "y=list(list_dict.values())\n",
    "plt.bar(x,y,color = [\"#C0C0C0\",\"#A9B7DB\",\"hotpink\",\"#9FC6C4\"])\n",
    "plt.title(\"virus data\")\n",
    "plt.xlabel('',size = 2,fontweight = \"bold\")\n",
    "plt.ylim(ymin = 0,ymax = 1200)\n",
    "plt.ylabel('Number of genomes',size = 10,fontweight = \"bold\")\n",
    "plt.grid(axis='y')\n",
    "plt.show()"
   ]
  },
  {
   "cell_type": "code",
   "execution_count": null,
   "id": "c7b3d7e0-60f6-4fac-8f6c-3b0348a7b0ee",
   "metadata": {},
   "outputs": [],
   "source": []
  }
 ],
 "metadata": {
  "kernelspec": {
   "display_name": "Python 3 (ipykernel)",
   "language": "python",
   "name": "python3"
  },
  "language_info": {
   "codemirror_mode": {
    "name": "ipython",
    "version": 3
   },
   "file_extension": ".py",
   "mimetype": "text/x-python",
   "name": "python",
   "nbconvert_exporter": "python",
   "pygments_lexer": "ipython3",
   "version": "3.11.7"
  }
 },
 "nbformat": 4,
 "nbformat_minor": 5
}
